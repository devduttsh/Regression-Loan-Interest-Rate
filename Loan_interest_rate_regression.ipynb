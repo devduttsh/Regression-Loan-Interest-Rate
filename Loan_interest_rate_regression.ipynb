{
 "cells": [
  {
   "cell_type": "code",
   "execution_count": 10,
   "id": "ab227f06",
   "metadata": {},
   "outputs": [],
   "source": [
    "import numpy as np\n",
    "import pandas as pd\n",
    "import matplotlib.pyplot as plt\n",
    "import os\n",
    "import seaborn as sns\n",
    "\n",
    "from sklearn.ensemble import RandomForestRegressor, GradientBoostingRegressor, AdaBoostRegressor\n",
    "from sklearn.model_selection import train_test_split\n",
    "from sklearn.metrics import mean_squared_error, r2_score\n",
    "from xgboost import XGBRegressor\n",
    "from sklearn.model_selection import GridSearchCV, RandomizedSearchCV\n",
    "\n",
    "from sklearn.linear_model import LinearRegression\n",
    "from sklearn.tree import DecisionTreeRegressor\n",
    "import pickle"
   ]
  },
  {
   "cell_type": "code",
   "execution_count": 11,
   "id": "28c67c2a",
   "metadata": {},
   "outputs": [],
   "source": [
    "pd.set_option('display.max_columns', None)"
   ]
  },
  {
   "cell_type": "code",
   "execution_count": 13,
   "id": "bc785bc4",
   "metadata": {},
   "outputs": [
    {
     "name": "stderr",
     "output_type": "stream",
     "text": [
      "C:\\Users\\Devdutt\\AppData\\Local\\Temp\\ipykernel_9500\\441035965.py:1: DtypeWarning: Columns (15) have mixed types. Specify dtype option on import or set low_memory=False.\n",
      "  loan_train = pd.read_csv('Loan_Prediction\\\\Data for Cleaning & Modeling.csv')\n"
     ]
    }
   ],
   "source": [
    "loan_train = pd.read_csv('Loan_Prediction\\\\Data for Cleaning & Modeling.csv')"
   ]
  },
  {
   "cell_type": "code",
   "execution_count": 14,
   "id": "caa032ac",
   "metadata": {},
   "outputs": [
    {
     "data": {
      "text/html": [
       "<div>\n",
       "<style scoped>\n",
       "    .dataframe tbody tr th:only-of-type {\n",
       "        vertical-align: middle;\n",
       "    }\n",
       "\n",
       "    .dataframe tbody tr th {\n",
       "        vertical-align: top;\n",
       "    }\n",
       "\n",
       "    .dataframe thead th {\n",
       "        text-align: right;\n",
       "    }\n",
       "</style>\n",
       "<table border=\"1\" class=\"dataframe\">\n",
       "  <thead>\n",
       "    <tr style=\"text-align: right;\">\n",
       "      <th></th>\n",
       "      <th>X1</th>\n",
       "      <th>X2</th>\n",
       "      <th>X3</th>\n",
       "      <th>X4</th>\n",
       "      <th>X5</th>\n",
       "      <th>X6</th>\n",
       "      <th>X7</th>\n",
       "      <th>X8</th>\n",
       "      <th>X9</th>\n",
       "      <th>X10</th>\n",
       "      <th>X11</th>\n",
       "      <th>X12</th>\n",
       "      <th>X13</th>\n",
       "      <th>X14</th>\n",
       "      <th>X15</th>\n",
       "      <th>X16</th>\n",
       "      <th>X17</th>\n",
       "      <th>X18</th>\n",
       "      <th>X19</th>\n",
       "      <th>X20</th>\n",
       "      <th>X21</th>\n",
       "      <th>X22</th>\n",
       "      <th>X23</th>\n",
       "      <th>X24</th>\n",
       "      <th>X25</th>\n",
       "      <th>X26</th>\n",
       "      <th>X27</th>\n",
       "      <th>X28</th>\n",
       "      <th>X29</th>\n",
       "      <th>X30</th>\n",
       "      <th>X31</th>\n",
       "      <th>X32</th>\n",
       "    </tr>\n",
       "  </thead>\n",
       "  <tbody>\n",
       "    <tr>\n",
       "      <th>0</th>\n",
       "      <td>11.89%</td>\n",
       "      <td>54734.0</td>\n",
       "      <td>80364.0</td>\n",
       "      <td>$25,000</td>\n",
       "      <td>$25,000</td>\n",
       "      <td>$19,080</td>\n",
       "      <td>36 months</td>\n",
       "      <td>B</td>\n",
       "      <td>B4</td>\n",
       "      <td>NaN</td>\n",
       "      <td>&lt; 1 year</td>\n",
       "      <td>RENT</td>\n",
       "      <td>85000.0</td>\n",
       "      <td>VERIFIED - income</td>\n",
       "      <td>Aug-09</td>\n",
       "      <td>Due to a lack of personal finance education an...</td>\n",
       "      <td>debt_consolidation</td>\n",
       "      <td>Debt consolidation for on-time payer</td>\n",
       "      <td>941xx</td>\n",
       "      <td>CA</td>\n",
       "      <td>19.48</td>\n",
       "      <td>0.0</td>\n",
       "      <td>Feb-94</td>\n",
       "      <td>0.0</td>\n",
       "      <td>NaN</td>\n",
       "      <td>NaN</td>\n",
       "      <td>10.0</td>\n",
       "      <td>0.0</td>\n",
       "      <td>28854.0</td>\n",
       "      <td>52.10%</td>\n",
       "      <td>42.0</td>\n",
       "      <td>f</td>\n",
       "    </tr>\n",
       "    <tr>\n",
       "      <th>1</th>\n",
       "      <td>10.71%</td>\n",
       "      <td>55742.0</td>\n",
       "      <td>114426.0</td>\n",
       "      <td>$7,000</td>\n",
       "      <td>$7,000</td>\n",
       "      <td>$673</td>\n",
       "      <td>36 months</td>\n",
       "      <td>B</td>\n",
       "      <td>B5</td>\n",
       "      <td>CNN</td>\n",
       "      <td>&lt; 1 year</td>\n",
       "      <td>RENT</td>\n",
       "      <td>65000.0</td>\n",
       "      <td>not verified</td>\n",
       "      <td>May-08</td>\n",
       "      <td>Just want to pay off the last bit of credit ca...</td>\n",
       "      <td>credit_card</td>\n",
       "      <td>Credit Card payoff</td>\n",
       "      <td>112xx</td>\n",
       "      <td>NY</td>\n",
       "      <td>14.29</td>\n",
       "      <td>0.0</td>\n",
       "      <td>Oct-00</td>\n",
       "      <td>0.0</td>\n",
       "      <td>NaN</td>\n",
       "      <td>NaN</td>\n",
       "      <td>7.0</td>\n",
       "      <td>0.0</td>\n",
       "      <td>33623.0</td>\n",
       "      <td>76.70%</td>\n",
       "      <td>7.0</td>\n",
       "      <td>f</td>\n",
       "    </tr>\n",
       "  </tbody>\n",
       "</table>\n",
       "</div>"
      ],
      "text/plain": [
       "       X1       X2        X3       X4       X5       X6          X7 X8  X9  \\\n",
       "0  11.89%  54734.0   80364.0  $25,000  $25,000  $19,080   36 months  B  B4   \n",
       "1  10.71%  55742.0  114426.0   $7,000   $7,000     $673   36 months  B  B5   \n",
       "\n",
       "   X10       X11   X12      X13                X14     X15  \\\n",
       "0  NaN  < 1 year  RENT  85000.0  VERIFIED - income  Aug-09   \n",
       "1  CNN  < 1 year  RENT  65000.0       not verified  May-08   \n",
       "\n",
       "                                                 X16                 X17  \\\n",
       "0  Due to a lack of personal finance education an...  debt_consolidation   \n",
       "1  Just want to pay off the last bit of credit ca...         credit_card   \n",
       "\n",
       "                                    X18    X19 X20    X21  X22     X23  X24  \\\n",
       "0  Debt consolidation for on-time payer  941xx  CA  19.48  0.0  Feb-94  0.0   \n",
       "1                    Credit Card payoff  112xx  NY  14.29  0.0  Oct-00  0.0   \n",
       "\n",
       "   X25  X26   X27  X28      X29     X30   X31 X32  \n",
       "0  NaN  NaN  10.0  0.0  28854.0  52.10%  42.0   f  \n",
       "1  NaN  NaN   7.0  0.0  33623.0  76.70%   7.0   f  "
      ]
     },
     "execution_count": 14,
     "metadata": {},
     "output_type": "execute_result"
    }
   ],
   "source": [
    "loan_train.head(2)"
   ]
  },
  {
   "cell_type": "markdown",
   "id": "a96dac45",
   "metadata": {},
   "source": [
    "### Column Descriptions"
   ]
  },
  {
   "cell_type": "code",
   "execution_count": 15,
   "id": "cd4974d2",
   "metadata": {},
   "outputs": [
    {
     "data": {
      "text/html": [
       "<div>\n",
       "<style scoped>\n",
       "    .dataframe tbody tr th:only-of-type {\n",
       "        vertical-align: middle;\n",
       "    }\n",
       "\n",
       "    .dataframe tbody tr th {\n",
       "        vertical-align: top;\n",
       "    }\n",
       "\n",
       "    .dataframe thead th {\n",
       "        text-align: right;\n",
       "    }\n",
       "</style>\n",
       "<table border=\"1\" class=\"dataframe\">\n",
       "  <thead>\n",
       "    <tr style=\"text-align: right;\">\n",
       "      <th></th>\n",
       "      <th>Variable</th>\n",
       "      <th>Definition</th>\n",
       "    </tr>\n",
       "  </thead>\n",
       "  <tbody>\n",
       "    <tr>\n",
       "      <th>0</th>\n",
       "      <td>X1</td>\n",
       "      <td>Interest Rate on the loan</td>\n",
       "    </tr>\n",
       "    <tr>\n",
       "      <th>1</th>\n",
       "      <td>X2</td>\n",
       "      <td>A unique id for the loan.</td>\n",
       "    </tr>\n",
       "    <tr>\n",
       "      <th>2</th>\n",
       "      <td>X3</td>\n",
       "      <td>A unique id assigned for the borrower.</td>\n",
       "    </tr>\n",
       "    <tr>\n",
       "      <th>3</th>\n",
       "      <td>X4</td>\n",
       "      <td>Loan amount requested</td>\n",
       "    </tr>\n",
       "    <tr>\n",
       "      <th>4</th>\n",
       "      <td>X5</td>\n",
       "      <td>Loan amount funded</td>\n",
       "    </tr>\n",
       "    <tr>\n",
       "      <th>5</th>\n",
       "      <td>X6</td>\n",
       "      <td>Investor-funded portion of loan</td>\n",
       "    </tr>\n",
       "    <tr>\n",
       "      <th>6</th>\n",
       "      <td>X7</td>\n",
       "      <td>Number of payments (36 or 60)</td>\n",
       "    </tr>\n",
       "    <tr>\n",
       "      <th>7</th>\n",
       "      <td>X8</td>\n",
       "      <td>Loan grade</td>\n",
       "    </tr>\n",
       "    <tr>\n",
       "      <th>8</th>\n",
       "      <td>X9</td>\n",
       "      <td>Loan subgrade</td>\n",
       "    </tr>\n",
       "    <tr>\n",
       "      <th>9</th>\n",
       "      <td>X10</td>\n",
       "      <td>Employer or job title (self-filled)</td>\n",
       "    </tr>\n",
       "    <tr>\n",
       "      <th>10</th>\n",
       "      <td>X11</td>\n",
       "      <td>Number of years employed (0 to 10; 10 = 10 or ...</td>\n",
       "    </tr>\n",
       "    <tr>\n",
       "      <th>11</th>\n",
       "      <td>X12</td>\n",
       "      <td>Home ownership status: RENT, OWN, MORTGAGE, OT...</td>\n",
       "    </tr>\n",
       "    <tr>\n",
       "      <th>12</th>\n",
       "      <td>X13</td>\n",
       "      <td>Annual income of borrower</td>\n",
       "    </tr>\n",
       "    <tr>\n",
       "      <th>13</th>\n",
       "      <td>X14</td>\n",
       "      <td>Income verified, not verified, or income sourc...</td>\n",
       "    </tr>\n",
       "    <tr>\n",
       "      <th>14</th>\n",
       "      <td>X15</td>\n",
       "      <td>Date loan was issued</td>\n",
       "    </tr>\n",
       "    <tr>\n",
       "      <th>15</th>\n",
       "      <td>X16</td>\n",
       "      <td>Reason for loan provided by borrower</td>\n",
       "    </tr>\n",
       "    <tr>\n",
       "      <th>16</th>\n",
       "      <td>X17</td>\n",
       "      <td>Loan category, as provided by borrower</td>\n",
       "    </tr>\n",
       "    <tr>\n",
       "      <th>17</th>\n",
       "      <td>X18</td>\n",
       "      <td>Loan title, as provided by borrower</td>\n",
       "    </tr>\n",
       "    <tr>\n",
       "      <th>18</th>\n",
       "      <td>X19</td>\n",
       "      <td>First 3 numbers of zip code</td>\n",
       "    </tr>\n",
       "    <tr>\n",
       "      <th>19</th>\n",
       "      <td>X20</td>\n",
       "      <td>State of borrower</td>\n",
       "    </tr>\n",
       "    <tr>\n",
       "      <th>20</th>\n",
       "      <td>X21</td>\n",
       "      <td>A ratio calculated using the borrower's total ...</td>\n",
       "    </tr>\n",
       "    <tr>\n",
       "      <th>21</th>\n",
       "      <td>X22</td>\n",
       "      <td>The number of 30+ days past-due incidences of ...</td>\n",
       "    </tr>\n",
       "    <tr>\n",
       "      <th>22</th>\n",
       "      <td>X23</td>\n",
       "      <td>Date the borrower's earliest reported credit l...</td>\n",
       "    </tr>\n",
       "    <tr>\n",
       "      <th>23</th>\n",
       "      <td>X24</td>\n",
       "      <td>Number of inquiries by creditors during the pa...</td>\n",
       "    </tr>\n",
       "    <tr>\n",
       "      <th>24</th>\n",
       "      <td>X25</td>\n",
       "      <td>Number of months since the borrower's last del...</td>\n",
       "    </tr>\n",
       "    <tr>\n",
       "      <th>25</th>\n",
       "      <td>X26</td>\n",
       "      <td>Number of months since the last public record.</td>\n",
       "    </tr>\n",
       "    <tr>\n",
       "      <th>26</th>\n",
       "      <td>X27</td>\n",
       "      <td>Number of open credit lines in the borrower's ...</td>\n",
       "    </tr>\n",
       "    <tr>\n",
       "      <th>27</th>\n",
       "      <td>X28</td>\n",
       "      <td>Number of derogatory public records</td>\n",
       "    </tr>\n",
       "    <tr>\n",
       "      <th>28</th>\n",
       "      <td>X29</td>\n",
       "      <td>Total credit revolving balance</td>\n",
       "    </tr>\n",
       "    <tr>\n",
       "      <th>29</th>\n",
       "      <td>X30</td>\n",
       "      <td>Revolving line utilization rate, or the amount...</td>\n",
       "    </tr>\n",
       "    <tr>\n",
       "      <th>30</th>\n",
       "      <td>X31</td>\n",
       "      <td>The total number of credit lines currently in ...</td>\n",
       "    </tr>\n",
       "    <tr>\n",
       "      <th>31</th>\n",
       "      <td>X32</td>\n",
       "      <td>The initial listing status of the loan. Possib...</td>\n",
       "    </tr>\n",
       "  </tbody>\n",
       "</table>\n",
       "</div>"
      ],
      "text/plain": [
       "   Variable                                         Definition\n",
       "0        X1                          Interest Rate on the loan\n",
       "1        X2                          A unique id for the loan.\n",
       "2        X3             A unique id assigned for the borrower.\n",
       "3        X4                              Loan amount requested\n",
       "4        X5                                 Loan amount funded\n",
       "5        X6                    Investor-funded portion of loan\n",
       "6        X7                      Number of payments (36 or 60)\n",
       "7        X8                                         Loan grade\n",
       "8        X9                                      Loan subgrade\n",
       "9       X10                Employer or job title (self-filled)\n",
       "10      X11  Number of years employed (0 to 10; 10 = 10 or ...\n",
       "11      X12  Home ownership status: RENT, OWN, MORTGAGE, OT...\n",
       "12      X13                          Annual income of borrower\n",
       "13      X14  Income verified, not verified, or income sourc...\n",
       "14      X15                               Date loan was issued\n",
       "15      X16               Reason for loan provided by borrower\n",
       "16      X17             Loan category, as provided by borrower\n",
       "17      X18                Loan title, as provided by borrower\n",
       "18      X19                        First 3 numbers of zip code\n",
       "19      X20                                  State of borrower\n",
       "20      X21  A ratio calculated using the borrower's total ...\n",
       "21      X22  The number of 30+ days past-due incidences of ...\n",
       "22      X23  Date the borrower's earliest reported credit l...\n",
       "23      X24  Number of inquiries by creditors during the pa...\n",
       "24      X25  Number of months since the borrower's last del...\n",
       "25      X26     Number of months since the last public record.\n",
       "26      X27  Number of open credit lines in the borrower's ...\n",
       "27      X28                Number of derogatory public records\n",
       "28      X29                     Total credit revolving balance\n",
       "29      X30  Revolving line utilization rate, or the amount...\n",
       "30      X31  The total number of credit lines currently in ...\n",
       "31      X32  The initial listing status of the loan. Possib..."
      ]
     },
     "execution_count": 15,
     "metadata": {},
     "output_type": "execute_result"
    }
   ],
   "source": [
    "loan_metadata = pd.read_csv('Loan_Prediction\\\\Metadata.csv')\n",
    "loan_metadata"
   ]
  },
  {
   "cell_type": "code",
   "execution_count": 16,
   "id": "8d93da63",
   "metadata": {},
   "outputs": [
    {
     "data": {
      "text/plain": [
       "(400000, 32)"
      ]
     },
     "execution_count": 16,
     "metadata": {},
     "output_type": "execute_result"
    }
   ],
   "source": [
    "loan_train.shape"
   ]
  },
  {
   "cell_type": "code",
   "execution_count": 17,
   "id": "4f463b4d",
   "metadata": {},
   "outputs": [
    {
     "data": {
      "text/plain": [
       "X1      object\n",
       "X2     float64\n",
       "X3     float64\n",
       "X4      object\n",
       "X5      object\n",
       "X6      object\n",
       "X7      object\n",
       "X8      object\n",
       "X9      object\n",
       "X10     object\n",
       "X11     object\n",
       "X12     object\n",
       "X13    float64\n",
       "X14     object\n",
       "X15     object\n",
       "X16     object\n",
       "X17     object\n",
       "X18     object\n",
       "X19     object\n",
       "X20     object\n",
       "X21    float64\n",
       "X22    float64\n",
       "X23     object\n",
       "X24    float64\n",
       "X25    float64\n",
       "X26    float64\n",
       "X27    float64\n",
       "X28    float64\n",
       "X29    float64\n",
       "X30     object\n",
       "X31    float64\n",
       "X32     object\n",
       "dtype: object"
      ]
     },
     "execution_count": 17,
     "metadata": {},
     "output_type": "execute_result"
    }
   ],
   "source": [
    "loan_train.dtypes"
   ]
  },
  {
   "cell_type": "code",
   "execution_count": 18,
   "id": "81613555",
   "metadata": {},
   "outputs": [
    {
     "data": {
      "text/plain": [
       "X1     15.25250\n",
       "X2      0.00025\n",
       "X3      0.00025\n",
       "X4      0.00025\n",
       "X5      0.00025\n",
       "X6      0.00025\n",
       "X7      0.00025\n",
       "X8     15.31750\n",
       "X9     15.31750\n",
       "X10     5.99650\n",
       "X11     4.38450\n",
       "X12    15.34025\n",
       "X13    15.25700\n",
       "X14     0.00025\n",
       "X15     0.00025\n",
       "X16    69.11000\n",
       "X17     0.00025\n",
       "X18     0.00475\n",
       "X19     0.00025\n",
       "X20     0.00025\n",
       "X21     0.00025\n",
       "X22     0.00025\n",
       "X23     0.00025\n",
       "X24     0.00025\n",
       "X25    54.70050\n",
       "X26    87.21125\n",
       "X27     0.00025\n",
       "X28     0.00025\n",
       "X29     0.00025\n",
       "X30     0.06675\n",
       "X31     0.00025\n",
       "X32     0.00025\n",
       "dtype: float64"
      ]
     },
     "execution_count": 18,
     "metadata": {},
     "output_type": "execute_result"
    }
   ],
   "source": [
    "loan_train.isnull().sum() *100 / loan_train.shape[0]"
   ]
  },
  {
   "cell_type": "markdown",
   "id": "74e4d606",
   "metadata": {},
   "source": [
    "### Handling Nulls"
   ]
  },
  {
   "cell_type": "markdown",
   "id": "27f7dde5",
   "metadata": {},
   "source": [
    "#### Keep only the rows with at least 2 non-NA values."
   ]
  },
  {
   "cell_type": "code",
   "execution_count": 19,
   "id": "39f33622",
   "metadata": {},
   "outputs": [],
   "source": [
    "loan_train.dropna(thresh=2, inplace = True)"
   ]
  },
  {
   "cell_type": "markdown",
   "id": "5c0dd7cf",
   "metadata": {},
   "source": [
    "#### removing rows with target variable (X1) =  NA"
   ]
  },
  {
   "cell_type": "code",
   "execution_count": 20,
   "id": "e5ffe3fb",
   "metadata": {},
   "outputs": [],
   "source": [
    "loan_train.dropna(subset=['X1'], inplace = True)"
   ]
  },
  {
   "cell_type": "markdown",
   "id": "cb71fadd",
   "metadata": {},
   "source": [
    "### Data Cleaning"
   ]
  },
  {
   "cell_type": "markdown",
   "id": "77db201b",
   "metadata": {},
   "source": [
    "#### Remove % and convert to float"
   ]
  },
  {
   "cell_type": "code",
   "execution_count": 21,
   "id": "e7b967ea",
   "metadata": {},
   "outputs": [],
   "source": [
    "loan_train['X1'] = loan_train['X1'].str.replace(r'[%,]', '', regex = True).str.strip().astype(float)\n",
    "loan_train['X30'] = loan_train['X30'].str.replace(r'[%,]', '', regex = True).str.strip().astype(float)"
   ]
  },
  {
   "cell_type": "markdown",
   "id": "d40a3bbd",
   "metadata": {},
   "source": [
    "#### Remove $ and convert to float"
   ]
  },
  {
   "cell_type": "code",
   "execution_count": 22,
   "id": "289abc95",
   "metadata": {},
   "outputs": [],
   "source": [
    "loan_train['X4'] = loan_train['X4'].str.replace(r'[$,]', '', regex = True).str.strip().astype(float)\n",
    "# Loan amount requested\n",
    "loan_train['X5'] = loan_train['X5'].str.replace(r'[$,]', '', regex = True).str.strip().astype(float)\n",
    "# Loan amount funded\n",
    "loan_train['X6'] = loan_train['X6'].str.replace(r'[$,]', '', regex = True).str.strip().astype(float)\n",
    "# Investor-funded portion of loan"
   ]
  },
  {
   "cell_type": "markdown",
   "id": "94ca592b",
   "metadata": {},
   "source": [
    "#### Droppping X2, X3 since they are IDs and can't be used for prediction"
   ]
  },
  {
   "cell_type": "code",
   "execution_count": 23,
   "id": "1220e47e",
   "metadata": {},
   "outputs": [],
   "source": [
    "loan_train.drop(columns = ['X2','X3'], inplace = True)"
   ]
  },
  {
   "cell_type": "code",
   "execution_count": 24,
   "id": "c6238822",
   "metadata": {},
   "outputs": [
    {
     "data": {
      "text/plain": [
       "(338989, 30)"
      ]
     },
     "execution_count": 24,
     "metadata": {},
     "output_type": "execute_result"
    }
   ],
   "source": [
    "loan_train.shape"
   ]
  },
  {
   "cell_type": "markdown",
   "id": "5e17ed56",
   "metadata": {},
   "source": [
    "### Feature Mining and EDA"
   ]
  },
  {
   "cell_type": "markdown",
   "id": "9d235b71",
   "metadata": {},
   "source": [
    "#### Interest Rate on the loan (Target column)"
   ]
  },
  {
   "cell_type": "code",
   "execution_count": 25,
   "id": "94889fb7",
   "metadata": {},
   "outputs": [
    {
     "name": "stdout",
     "output_type": "stream",
     "text": [
      "count    338989.000000\n",
      "mean         13.946289\n",
      "std           4.377945\n",
      "min           5.420000\n",
      "25%          10.990000\n",
      "50%          13.680000\n",
      "75%          16.780000\n",
      "max          26.060000\n",
      "Name: X1, dtype: float64\n"
     ]
    },
    {
     "data": {
      "image/png": "[encoded data removed]",
      "text/plain": [
       "<Figure size 432x288 with 1 Axes>"
      ]
     },
     "metadata": {
      "needs_background": "light"
     },
     "output_type": "display_data"
    }
   ],
   "source": [
    "print(loan_train['X1'].describe())\n",
    "sns.histplot(loan_train['X1'], binwidth=1)\n",
    "plt.show()"
   ]
  },
  {
   "cell_type": "markdown",
   "id": "b8df9182",
   "metadata": {},
   "source": [
    "#### Loan amount requested"
   ]
  },
  {
   "cell_type": "code",
   "execution_count": 26,
   "id": "8901fcfd",
   "metadata": {},
   "outputs": [
    {
     "name": "stdout",
     "output_type": "stream",
     "text": [
      "count    338989.000000\n",
      "mean      14276.968353\n",
      "std        8252.264104\n",
      "min         500.000000\n",
      "25%        8000.000000\n",
      "50%       12000.000000\n",
      "75%       20000.000000\n",
      "max       35000.000000\n",
      "Name: X4, dtype: float64\n"
     ]
    },
    {
     "data": {
      "image/png": "[encoded data removed]",
      "text/plain": [
       "<Figure size 432x288 with 1 Axes>"
      ]
     },
     "metadata": {
      "needs_background": "light"
     },
     "output_type": "display_data"
    }
   ],
   "source": [
    "print(loan_train['X4'].describe())\n",
    "sns.histplot(loan_train['X4'], binwidth=2000)\n",
    "plt.show()"
   ]
  },
  {
   "cell_type": "markdown",
   "id": "1dfc5043",
   "metadata": {},
   "source": [
    "#### Number of payments (36 or 60)"
   ]
  },
  {
   "cell_type": "code",
   "execution_count": 27,
   "id": "5ae852fd",
   "metadata": {},
   "outputs": [
    {
     "data": {
      "image/png": "[encoded data removed]",
      "text/plain": [
       "<Figure size 432x288 with 1 Axes>"
      ]
     },
     "metadata": {
      "needs_background": "light"
     },
     "output_type": "display_data"
    }
   ],
   "source": [
    "sns.countplot(x='X7',data = loan_train)\n",
    "plt.show()"
   ]
  },
  {
   "cell_type": "markdown",
   "id": "98dfab24",
   "metadata": {},
   "source": [
    "#### Loan grade"
   ]
  },
  {
   "cell_type": "code",
   "execution_count": 28,
   "id": "8cdbab64",
   "metadata": {},
   "outputs": [
    {
     "data": {
      "image/png": "[encoded data removed]",
      "text/plain": [
       "<Figure size 432x288 with 1 Axes>"
      ]
     },
     "metadata": {
      "needs_background": "light"
     },
     "output_type": "display_data"
    }
   ],
   "source": [
    "sns.countplot(x='X8',data = loan_train)\n",
    "plt.show()"
   ]
  },
  {
   "cell_type": "code",
   "execution_count": 29,
   "id": "cdec9d7d",
   "metadata": {},
   "outputs": [],
   "source": [
    "loan_train.dropna(subset=['X8','X9'], inplace = True)"
   ]
  },
  {
   "cell_type": "markdown",
   "id": "92cf9cab",
   "metadata": {},
   "source": [
    "#### Number of years employed (Cleaned)"
   ]
  },
  {
   "cell_type": "code",
   "execution_count": 30,
   "id": "6fd5a739",
   "metadata": {},
   "outputs": [],
   "source": [
    "loan_train['X11'] = loan_train['X11'].str.replace(r'[<+years?]', '', regex = True).str.strip()\n",
    "loan_train['X11'] = loan_train['X11'].fillna('0')\n",
    "loan_train['X11'] = loan_train['X11'].str.strip().astype(int)"
   ]
  },
  {
   "cell_type": "code",
   "execution_count": 31,
   "id": "d7afde66",
   "metadata": {},
   "outputs": [
    {
     "data": {
      "image/png": "[encoded data removed]",
      "text/plain": [
       "<Figure size 432x288 with 1 Axes>"
      ]
     },
     "metadata": {
      "needs_background": "light"
     },
     "output_type": "display_data"
    }
   ],
   "source": [
    "sns.countplot(x='X11',data = loan_train)\n",
    "plt.show()"
   ]
  },
  {
   "cell_type": "markdown",
   "id": "5dbdbbe4",
   "metadata": {},
   "source": [
    "#### Home ownership status (placed smaller categories in the 'other' bucket)"
   ]
  },
  {
   "cell_type": "code",
   "execution_count": 32,
   "id": "5e18072f",
   "metadata": {},
   "outputs": [],
   "source": [
    "loan_train['X12'] = loan_train['X12'].str.replace('NONE','OTHER')\n",
    "loan_train['X12'] = loan_train['X12'].str.replace('ANY','OTHER')\n",
    "loan_train['X12'] = loan_train['X12'].fillna('OTHER')"
   ]
  },
  {
   "cell_type": "code",
   "execution_count": 33,
   "id": "8ce670fe",
   "metadata": {},
   "outputs": [
    {
     "data": {
      "image/png": "[encoded data removed]",
      "text/plain": [
       "<Figure size 432x288 with 1 Axes>"
      ]
     },
     "metadata": {
      "needs_background": "light"
     },
     "output_type": "display_data"
    }
   ],
   "source": [
    "sns.countplot(x='X12',data = loan_train)\n",
    "plt.show()"
   ]
  },
  {
   "cell_type": "markdown",
   "id": "ec1289ed",
   "metadata": {},
   "source": [
    "#### Annual income of borrower (Had 15% null values, replaced with median)"
   ]
  },
  {
   "cell_type": "code",
   "execution_count": 34,
   "id": "f5b6f74e",
   "metadata": {},
   "outputs": [],
   "source": [
    "loan_train['X13'].fillna(int(loan_train['X13'].median()), inplace=True)"
   ]
  },
  {
   "cell_type": "code",
   "execution_count": 35,
   "id": "58189e54",
   "metadata": {},
   "outputs": [
    {
     "data": {
      "text/plain": [
       "<AxesSubplot:xlabel='X13'>"
      ]
     },
     "execution_count": 35,
     "metadata": {},
     "output_type": "execute_result"
    },
    {
     "data": {
      "image/png": "[encoded data removed]",
      "text/plain": [
       "<Figure size 432x288 with 1 Axes>"
      ]
     },
     "metadata": {
      "needs_background": "light"
     },
     "output_type": "display_data"
    }
   ],
   "source": [
    "sns.boxplot(x='X13',data=loan_train)"
   ]
  },
  {
   "cell_type": "markdown",
   "id": "48a61c0a",
   "metadata": {},
   "source": [
    "#### Deleting outliers: annual income greater than $1M"
   ]
  },
  {
   "cell_type": "code",
   "execution_count": 36,
   "id": "8a23b19f",
   "metadata": {},
   "outputs": [],
   "source": [
    "loan_train = loan_train[loan_train['X13']<1000000]"
   ]
  },
  {
   "cell_type": "markdown",
   "id": "30cc9a4b",
   "metadata": {},
   "source": [
    "#### Income verified, not verified"
   ]
  },
  {
   "cell_type": "code",
   "execution_count": 37,
   "id": "9f8f164e",
   "metadata": {},
   "outputs": [],
   "source": [
    "loan_train['X14'] = loan_train['X14'].str.replace('VERIFIED - income source','VERIFIED - income')"
   ]
  },
  {
   "cell_type": "code",
   "execution_count": 38,
   "id": "b7bda6a8",
   "metadata": {},
   "outputs": [
    {
     "data": {
      "text/plain": [
       "VERIFIED - income    68.12\n",
       "not verified         31.88\n",
       "Name: X14, dtype: float64"
      ]
     },
     "execution_count": 38,
     "metadata": {},
     "output_type": "execute_result"
    }
   ],
   "source": [
    "round(loan_train['X14'].value_counts(normalize = True, dropna=False)*100,2)"
   ]
  },
  {
   "cell_type": "markdown",
   "id": "74afbe3f",
   "metadata": {},
   "source": [
    "#### Loan Issue Year"
   ]
  },
  {
   "cell_type": "code",
   "execution_count": 39,
   "id": "64a32e8b",
   "metadata": {},
   "outputs": [],
   "source": [
    "loan_train['issue_year'] = '20'+loan_train['X15'].str[-2:]"
   ]
  },
  {
   "cell_type": "code",
   "execution_count": 40,
   "id": "3bb756c0",
   "metadata": {},
   "outputs": [],
   "source": [
    "loan_train['issue_year'] = loan_train['issue_year'].apply(lambda x: x if x in ['2012','2013','2014'] else 'older')"
   ]
  },
  {
   "cell_type": "code",
   "execution_count": 41,
   "id": "ed4e163e",
   "metadata": {},
   "outputs": [
    {
     "data": {
      "text/plain": [
       "2014     0.429729\n",
       "2013     0.336364\n",
       "2012     0.133614\n",
       "older    0.100293\n",
       "Name: issue_year, dtype: float64"
      ]
     },
     "execution_count": 41,
     "metadata": {},
     "output_type": "execute_result"
    }
   ],
   "source": [
    "loan_train['issue_year'].value_counts(normalize = True)"
   ]
  },
  {
   "cell_type": "markdown",
   "id": "906be233",
   "metadata": {},
   "source": [
    "#### Loan category, as provided by borrower"
   ]
  },
  {
   "cell_type": "code",
   "execution_count": 42,
   "id": "25e9a36a",
   "metadata": {},
   "outputs": [],
   "source": [
    "loan_train['X17'] = loan_train['X17'].apply(lambda x: x if x in ['debt_consolidation','credit_card'] else 'others')"
   ]
  },
  {
   "cell_type": "code",
   "execution_count": 43,
   "id": "90f4491f",
   "metadata": {},
   "outputs": [
    {
     "data": {
      "image/png": "[encoded data removed]",
      "text/plain": [
       "<Figure size 432x288 with 1 Axes>"
      ]
     },
     "metadata": {
      "needs_background": "light"
     },
     "output_type": "display_data"
    }
   ],
   "source": [
    "sns.countplot(x='X17',data = loan_train)\n",
    "plt.show()"
   ]
  },
  {
   "cell_type": "markdown",
   "id": "0ad791fe",
   "metadata": {},
   "source": [
    "#### State of borrower\n"
   ]
  },
  {
   "cell_type": "code",
   "execution_count": 44,
   "id": "8ffd22f7",
   "metadata": {},
   "outputs": [
    {
     "data": {
      "text/plain": [
       "others    61.30\n",
       "CA        15.54\n",
       "NY         8.62\n",
       "TX         7.84\n",
       "FL         6.70\n",
       "Name: X20, dtype: float64"
      ]
     },
     "execution_count": 44,
     "metadata": {},
     "output_type": "execute_result"
    }
   ],
   "source": [
    "loan_train['X20'] = loan_train['X20'].apply(lambda x: x if x in ['CA','NY','TX','FL'] else 'others')\n",
    "round(loan_train['X20'].value_counts(normalize = True, dropna=False)*100,2)"
   ]
  },
  {
   "cell_type": "markdown",
   "id": "1009444e",
   "metadata": {},
   "source": [
    "#### Debt Ratio"
   ]
  },
  {
   "cell_type": "code",
   "execution_count": 45,
   "id": "b373e879",
   "metadata": {},
   "outputs": [
    {
     "name": "stdout",
     "output_type": "stream",
     "text": [
      "count    287088.000000\n",
      "mean         17.004083\n",
      "std           7.693860\n",
      "min           0.000000\n",
      "25%          11.260000\n",
      "50%          16.705000\n",
      "75%          22.500000\n",
      "max          39.990000\n",
      "Name: X21, dtype: float64\n"
     ]
    },
    {
     "data": {
      "image/png": "[encoded data removed]",
      "text/plain": [
       "<Figure size 432x288 with 1 Axes>"
      ]
     },
     "metadata": {
      "needs_background": "light"
     },
     "output_type": "display_data"
    }
   ],
   "source": [
    "print(loan_train['X21'].describe())\n",
    "sns.histplot(loan_train['X21'])\n",
    "plt.show()"
   ]
  },
  {
   "cell_type": "markdown",
   "id": "ad56d7aa",
   "metadata": {},
   "source": [
    "#### Deliquence incidents"
   ]
  },
  {
   "cell_type": "code",
   "execution_count": 46,
   "id": "389c6ddf",
   "metadata": {},
   "outputs": [],
   "source": [
    "loan_train['zero_delinquency_incidents'] = loan_train['X22'].apply(lambda x: 1 if x == 0 else 0)"
   ]
  },
  {
   "cell_type": "code",
   "execution_count": 47,
   "id": "b74d14ea",
   "metadata": {},
   "outputs": [
    {
     "data": {
      "text/plain": [
       "1    237327\n",
       "0     49761\n",
       "Name: zero_delinquency_incidents, dtype: int64"
      ]
     },
     "execution_count": 47,
     "metadata": {},
     "output_type": "execute_result"
    }
   ],
   "source": [
    "loan_train['zero_delinquency_incidents'].value_counts()"
   ]
  },
  {
   "cell_type": "markdown",
   "id": "d370b36b",
   "metadata": {},
   "source": [
    "#### Number of inquiries by creditors during the past 6 months."
   ]
  },
  {
   "cell_type": "code",
   "execution_count": 48,
   "id": "ead558cf",
   "metadata": {},
   "outputs": [
    {
     "data": {
      "image/png": "[encoded data removed]",
      "text/plain": [
       "<Figure size 432x288 with 1 Axes>"
      ]
     },
     "metadata": {
      "needs_background": "light"
     },
     "output_type": "display_data"
    }
   ],
   "source": [
    "loan_train['X24'] = loan_train['X24'].astype(int)\n",
    "loan_train['X24'] = loan_train['X24'].apply(lambda x: x if x in [0,1,2] else '> 2')\n",
    "\n",
    "sns.countplot(x='X24',data = loan_train)\n",
    "plt.show()"
   ]
  },
  {
   "cell_type": "markdown",
   "id": "fa098808",
   "metadata": {},
   "source": [
    "#### Number of open credit lines / total number of credit lines in the borrower's credit file"
   ]
  },
  {
   "cell_type": "code",
   "execution_count": 49,
   "id": "f60db6e3",
   "metadata": {},
   "outputs": [],
   "source": [
    "loan_train['%ocl'] = loan_train['X27']/loan_train['X31']"
   ]
  },
  {
   "cell_type": "code",
   "execution_count": 50,
   "id": "1f2efc79",
   "metadata": {},
   "outputs": [
    {
     "name": "stdout",
     "output_type": "stream",
     "text": [
      "count    287088.000000\n",
      "mean          0.483785\n",
      "std           0.171601\n",
      "min           0.000000\n",
      "25%           0.357143\n",
      "50%           0.464286\n",
      "75%           0.588235\n",
      "max           1.750000\n",
      "Name: %ocl, dtype: float64\n"
     ]
    },
    {
     "data": {
      "image/png": "[encoded data removed]",
      "text/plain": [
       "<Figure size 432x288 with 1 Axes>"
      ]
     },
     "metadata": {
      "needs_background": "light"
     },
     "output_type": "display_data"
    }
   ],
   "source": [
    "print(loan_train['%ocl'].describe())\n",
    "sns.histplot(loan_train['%ocl'])\n",
    "plt.show()"
   ]
  },
  {
   "cell_type": "markdown",
   "id": "ef66e61b",
   "metadata": {},
   "source": [
    "#### Number of derogatory public records\n"
   ]
  },
  {
   "cell_type": "code",
   "execution_count": 51,
   "id": "3d56c2ee",
   "metadata": {},
   "outputs": [],
   "source": [
    "loan_train['no_derogatory_pr'] = loan_train['X28'].apply(lambda x: 1 if x == 0 else 0)"
   ]
  },
  {
   "cell_type": "markdown",
   "id": "8bdfa0fb",
   "metadata": {},
   "source": [
    "#### Total credit revolving balance"
   ]
  },
  {
   "cell_type": "code",
   "execution_count": 52,
   "id": "3cd08efd",
   "metadata": {},
   "outputs": [
    {
     "data": {
      "text/plain": [
       "<AxesSubplot:xlabel='X29', ylabel='Count'>"
      ]
     },
     "execution_count": 52,
     "metadata": {},
     "output_type": "execute_result"
    },
    {
     "data": {
      "image/png": "[encoded data removed]",
      "text/plain": [
       "<Figure size 432x288 with 1 Axes>"
      ]
     },
     "metadata": {
      "needs_background": "light"
     },
     "output_type": "display_data"
    }
   ],
   "source": [
    "sns.histplot(loan_train['X29']+1, log_scale = True)"
   ]
  },
  {
   "cell_type": "markdown",
   "id": "a4927766",
   "metadata": {},
   "source": [
    "#### Revolving line utilization rate"
   ]
  },
  {
   "cell_type": "code",
   "execution_count": 53,
   "id": "963fb913",
   "metadata": {},
   "outputs": [
    {
     "data": {
      "text/plain": [
       "<AxesSubplot:xlabel='X30', ylabel='Density'>"
      ]
     },
     "execution_count": 53,
     "metadata": {},
     "output_type": "execute_result"
    },
    {
     "data": {
      "image/png": "[encoded data removed]",
      "text/plain": [
       "<Figure size 432x288 with 1 Axes>"
      ]
     },
     "metadata": {
      "needs_background": "light"
     },
     "output_type": "display_data"
    }
   ],
   "source": [
    "loan_train['X30'].fillna(int(loan_train['X30'].median()), inplace=True)\n",
    "sns.histplot(loan_train['X30'], binwidth=5, stat=\"density\")"
   ]
  },
  {
   "cell_type": "markdown",
   "id": "a45a189b",
   "metadata": {},
   "source": [
    "#### The initial listing status of the loan."
   ]
  },
  {
   "cell_type": "code",
   "execution_count": 54,
   "id": "42d9c306",
   "metadata": {},
   "outputs": [
    {
     "data": {
      "text/plain": [
       "f    68.61\n",
       "w    31.39\n",
       "Name: X32, dtype: float64"
      ]
     },
     "execution_count": 54,
     "metadata": {},
     "output_type": "execute_result"
    }
   ],
   "source": [
    "round(loan_train['X32'].value_counts(normalize = True)*100,2)\n",
    "# The initial listing status of the loan. Possible values are W, F"
   ]
  },
  {
   "cell_type": "code",
   "execution_count": 55,
   "id": "6079c6c3",
   "metadata": {},
   "outputs": [],
   "source": [
    "loan_train.drop(columns = ['X10','X15','X16','X18','X19','X22','X23','X25','X26','X27','X31','X28'], inplace = True)"
   ]
  },
  {
   "cell_type": "markdown",
   "id": "0548c739",
   "metadata": {},
   "source": [
    "---"
   ]
  },
  {
   "cell_type": "markdown",
   "id": "3315289a",
   "metadata": {},
   "source": [
    "#### Converting categorical columns to dummy variables"
   ]
  },
  {
   "cell_type": "code",
   "execution_count": 56,
   "id": "1a91415a",
   "metadata": {},
   "outputs": [],
   "source": [
    "loan_train = pd.get_dummies(loan_train, columns=['X7','X8','X9','X12','X14','X17','X20','X24','X32','issue_year','zero_delinquency_incidents','no_derogatory_pr'])"
   ]
  },
  {
   "cell_type": "code",
   "execution_count": 57,
   "id": "49c00bbe",
   "metadata": {},
   "outputs": [],
   "source": [
    "numerical = ['X1','X4','X5','X6','X11','X13','X21','X29','X30','%ocl']"
   ]
  },
  {
   "cell_type": "markdown",
   "id": "54bce6b6",
   "metadata": {},
   "source": [
    "#### Checking Correlation"
   ]
  },
  {
   "cell_type": "code",
   "execution_count": 58,
   "id": "670a6040",
   "metadata": {},
   "outputs": [
    {
     "data": {
      "text/plain": [
       "<AxesSubplot:>"
      ]
     },
     "execution_count": 58,
     "metadata": {},
     "output_type": "execute_result"
    },
    {
     "data": {
      "image/png": "[encoded data removed]",
      "text/plain": [
       "<Figure size 576x432 with 2 Axes>"
      ]
     },
     "metadata": {
      "needs_background": "light"
     },
     "output_type": "display_data"
    }
   ],
   "source": [
    "plt.figure(figsize = (8,6))\n",
    "mask = np.triu(np.ones_like(loan_train[numerical].corr(), dtype=bool))\n",
    "sns.heatmap(loan_train[numerical].corr(), annot=True, cmap=\"YlGnBu\", mask=mask)"
   ]
  },
  {
   "cell_type": "markdown",
   "id": "35c7be66",
   "metadata": {},
   "source": [
    "We observe that X4, X5 and X6 are highly correlated, dropping X5 and X6\n"
   ]
  },
  {
   "cell_type": "code",
   "execution_count": 59,
   "id": "e55b7ab0",
   "metadata": {},
   "outputs": [],
   "source": [
    "loan_train.drop(columns = ['X5','X6'], inplace = True)"
   ]
  },
  {
   "cell_type": "markdown",
   "id": "63442df7",
   "metadata": {},
   "source": [
    "#### Scaling the numerical features"
   ]
  },
  {
   "cell_type": "code",
   "execution_count": 60,
   "id": "bde9b2c1",
   "metadata": {},
   "outputs": [],
   "source": [
    "from sklearn.preprocessing import StandardScaler\n",
    "scaler = StandardScaler()\n",
    "numerical = ['X1','X4','X11','X13','X21','X29','X30','%ocl']\n",
    "\n",
    "loan_train = pd.DataFrame(data = loan_train)\n",
    "loan_train[numerical] = scaler.fit_transform(loan_train[numerical])"
   ]
  },
  {
   "cell_type": "code",
   "execution_count": 61,
   "id": "38b7d77c",
   "metadata": {},
   "outputs": [
    {
     "data": {
      "text/html": [
       "<div>\n",
       "<style scoped>\n",
       "    .dataframe tbody tr th:only-of-type {\n",
       "        vertical-align: middle;\n",
       "    }\n",
       "\n",
       "    .dataframe tbody tr th {\n",
       "        vertical-align: top;\n",
       "    }\n",
       "\n",
       "    .dataframe thead th {\n",
       "        text-align: right;\n",
       "    }\n",
       "</style>\n",
       "<table border=\"1\" class=\"dataframe\">\n",
       "  <thead>\n",
       "    <tr style=\"text-align: right;\">\n",
       "      <th></th>\n",
       "      <th>X1</th>\n",
       "      <th>X4</th>\n",
       "      <th>X11</th>\n",
       "      <th>X13</th>\n",
       "      <th>X21</th>\n",
       "      <th>X29</th>\n",
       "      <th>X30</th>\n",
       "      <th>%ocl</th>\n",
       "      <th>X7_ 36 months</th>\n",
       "      <th>X7_ 60 months</th>\n",
       "      <th>X8_A</th>\n",
       "      <th>X8_B</th>\n",
       "      <th>X8_C</th>\n",
       "      <th>X8_D</th>\n",
       "      <th>X8_E</th>\n",
       "      <th>X8_F</th>\n",
       "      <th>X8_G</th>\n",
       "      <th>X9_A1</th>\n",
       "      <th>X9_A2</th>\n",
       "      <th>X9_A3</th>\n",
       "      <th>X9_A4</th>\n",
       "      <th>X9_A5</th>\n",
       "      <th>X9_B1</th>\n",
       "      <th>X9_B2</th>\n",
       "      <th>X9_B3</th>\n",
       "      <th>X9_B4</th>\n",
       "      <th>X9_B5</th>\n",
       "      <th>X9_C1</th>\n",
       "      <th>X9_C2</th>\n",
       "      <th>X9_C3</th>\n",
       "      <th>X9_C4</th>\n",
       "      <th>X9_C5</th>\n",
       "      <th>X9_D1</th>\n",
       "      <th>X9_D2</th>\n",
       "      <th>X9_D3</th>\n",
       "      <th>X9_D4</th>\n",
       "      <th>X9_D5</th>\n",
       "      <th>X9_E1</th>\n",
       "      <th>X9_E2</th>\n",
       "      <th>X9_E3</th>\n",
       "      <th>X9_E4</th>\n",
       "      <th>X9_E5</th>\n",
       "      <th>X9_F1</th>\n",
       "      <th>X9_F2</th>\n",
       "      <th>X9_F3</th>\n",
       "      <th>X9_F4</th>\n",
       "      <th>X9_F5</th>\n",
       "      <th>X9_G1</th>\n",
       "      <th>X9_G2</th>\n",
       "      <th>X9_G3</th>\n",
       "      <th>X9_G4</th>\n",
       "      <th>X9_G5</th>\n",
       "      <th>X12_MORTGAGE</th>\n",
       "      <th>X12_OTHER</th>\n",
       "      <th>X12_OWN</th>\n",
       "      <th>X12_RENT</th>\n",
       "      <th>X14_VERIFIED - income</th>\n",
       "      <th>X14_not verified</th>\n",
       "      <th>X17_credit_card</th>\n",
       "      <th>X17_debt_consolidation</th>\n",
       "      <th>X17_others</th>\n",
       "      <th>X20_CA</th>\n",
       "      <th>X20_FL</th>\n",
       "      <th>X20_NY</th>\n",
       "      <th>X20_TX</th>\n",
       "      <th>X20_others</th>\n",
       "      <th>X24_0</th>\n",
       "      <th>X24_1</th>\n",
       "      <th>X24_2</th>\n",
       "      <th>X24_&gt; 2</th>\n",
       "      <th>X32_f</th>\n",
       "      <th>X32_w</th>\n",
       "      <th>issue_year_2012</th>\n",
       "      <th>issue_year_2013</th>\n",
       "      <th>issue_year_2014</th>\n",
       "      <th>issue_year_older</th>\n",
       "      <th>zero_delinquency_incidents_0</th>\n",
       "      <th>zero_delinquency_incidents_1</th>\n",
       "      <th>no_derogatory_pr_0</th>\n",
       "      <th>no_derogatory_pr_1</th>\n",
       "    </tr>\n",
       "  </thead>\n",
       "  <tbody>\n",
       "    <tr>\n",
       "      <th>0</th>\n",
       "      <td>-0.469526</td>\n",
       "      <td>1.299326</td>\n",
       "      <td>-1.324587</td>\n",
       "      <td>0.324070</td>\n",
       "      <td>0.321805</td>\n",
       "      <td>0.702096</td>\n",
       "      <td>-0.177563</td>\n",
       "      <td>-1.431752</td>\n",
       "      <td>1</td>\n",
       "      <td>0</td>\n",
       "      <td>0</td>\n",
       "      <td>1</td>\n",
       "      <td>0</td>\n",
       "      <td>0</td>\n",
       "      <td>0</td>\n",
       "      <td>0</td>\n",
       "      <td>0</td>\n",
       "      <td>0</td>\n",
       "      <td>0</td>\n",
       "      <td>0</td>\n",
       "      <td>0</td>\n",
       "      <td>0</td>\n",
       "      <td>0</td>\n",
       "      <td>0</td>\n",
       "      <td>0</td>\n",
       "      <td>1</td>\n",
       "      <td>0</td>\n",
       "      <td>0</td>\n",
       "      <td>0</td>\n",
       "      <td>0</td>\n",
       "      <td>0</td>\n",
       "      <td>0</td>\n",
       "      <td>0</td>\n",
       "      <td>0</td>\n",
       "      <td>0</td>\n",
       "      <td>0</td>\n",
       "      <td>0</td>\n",
       "      <td>0</td>\n",
       "      <td>0</td>\n",
       "      <td>0</td>\n",
       "      <td>0</td>\n",
       "      <td>0</td>\n",
       "      <td>0</td>\n",
       "      <td>0</td>\n",
       "      <td>0</td>\n",
       "      <td>0</td>\n",
       "      <td>0</td>\n",
       "      <td>0</td>\n",
       "      <td>0</td>\n",
       "      <td>0</td>\n",
       "      <td>0</td>\n",
       "      <td>0</td>\n",
       "      <td>0</td>\n",
       "      <td>0</td>\n",
       "      <td>0</td>\n",
       "      <td>1</td>\n",
       "      <td>1</td>\n",
       "      <td>0</td>\n",
       "      <td>0</td>\n",
       "      <td>1</td>\n",
       "      <td>0</td>\n",
       "      <td>1</td>\n",
       "      <td>0</td>\n",
       "      <td>0</td>\n",
       "      <td>0</td>\n",
       "      <td>0</td>\n",
       "      <td>1</td>\n",
       "      <td>0</td>\n",
       "      <td>0</td>\n",
       "      <td>0</td>\n",
       "      <td>1</td>\n",
       "      <td>0</td>\n",
       "      <td>0</td>\n",
       "      <td>0</td>\n",
       "      <td>0</td>\n",
       "      <td>1</td>\n",
       "      <td>0</td>\n",
       "      <td>1</td>\n",
       "      <td>0</td>\n",
       "      <td>1</td>\n",
       "    </tr>\n",
       "    <tr>\n",
       "      <th>1</th>\n",
       "      <td>-0.739110</td>\n",
       "      <td>-0.880560</td>\n",
       "      <td>-1.324587</td>\n",
       "      <td>-0.148757</td>\n",
       "      <td>-0.352760</td>\n",
       "      <td>0.961272</td>\n",
       "      <td>0.857647</td>\n",
       "      <td>3.008226</td>\n",
       "      <td>1</td>\n",
       "      <td>0</td>\n",
       "      <td>0</td>\n",
       "      <td>1</td>\n",
       "      <td>0</td>\n",
       "      <td>0</td>\n",
       "      <td>0</td>\n",
       "      <td>0</td>\n",
       "      <td>0</td>\n",
       "      <td>0</td>\n",
       "      <td>0</td>\n",
       "      <td>0</td>\n",
       "      <td>0</td>\n",
       "      <td>0</td>\n",
       "      <td>0</td>\n",
       "      <td>0</td>\n",
       "      <td>0</td>\n",
       "      <td>0</td>\n",
       "      <td>1</td>\n",
       "      <td>0</td>\n",
       "      <td>0</td>\n",
       "      <td>0</td>\n",
       "      <td>0</td>\n",
       "      <td>0</td>\n",
       "      <td>0</td>\n",
       "      <td>0</td>\n",
       "      <td>0</td>\n",
       "      <td>0</td>\n",
       "      <td>0</td>\n",
       "      <td>0</td>\n",
       "      <td>0</td>\n",
       "      <td>0</td>\n",
       "      <td>0</td>\n",
       "      <td>0</td>\n",
       "      <td>0</td>\n",
       "      <td>0</td>\n",
       "      <td>0</td>\n",
       "      <td>0</td>\n",
       "      <td>0</td>\n",
       "      <td>0</td>\n",
       "      <td>0</td>\n",
       "      <td>0</td>\n",
       "      <td>0</td>\n",
       "      <td>0</td>\n",
       "      <td>0</td>\n",
       "      <td>0</td>\n",
       "      <td>0</td>\n",
       "      <td>1</td>\n",
       "      <td>0</td>\n",
       "      <td>1</td>\n",
       "      <td>1</td>\n",
       "      <td>0</td>\n",
       "      <td>0</td>\n",
       "      <td>0</td>\n",
       "      <td>0</td>\n",
       "      <td>1</td>\n",
       "      <td>0</td>\n",
       "      <td>0</td>\n",
       "      <td>1</td>\n",
       "      <td>0</td>\n",
       "      <td>0</td>\n",
       "      <td>0</td>\n",
       "      <td>1</td>\n",
       "      <td>0</td>\n",
       "      <td>0</td>\n",
       "      <td>0</td>\n",
       "      <td>0</td>\n",
       "      <td>1</td>\n",
       "      <td>0</td>\n",
       "      <td>1</td>\n",
       "      <td>0</td>\n",
       "      <td>1</td>\n",
       "    </tr>\n",
       "  </tbody>\n",
       "</table>\n",
       "</div>"
      ],
      "text/plain": [
       "         X1        X4       X11       X13       X21       X29       X30  \\\n",
       "0 -0.469526  1.299326 -1.324587  0.324070  0.321805  0.702096 -0.177563   \n",
       "1 -0.739110 -0.880560 -1.324587 -0.148757 -0.352760  0.961272  0.857647   \n",
       "\n",
       "       %ocl  X7_ 36 months  X7_ 60 months  X8_A  X8_B  X8_C  X8_D  X8_E  X8_F  \\\n",
       "0 -1.431752              1              0     0     1     0     0     0     0   \n",
       "1  3.008226              1              0     0     1     0     0     0     0   \n",
       "\n",
       "   X8_G  X9_A1  X9_A2  X9_A3  X9_A4  X9_A5  X9_B1  X9_B2  X9_B3  X9_B4  X9_B5  \\\n",
       "0     0      0      0      0      0      0      0      0      0      1      0   \n",
       "1     0      0      0      0      0      0      0      0      0      0      1   \n",
       "\n",
       "   X9_C1  X9_C2  X9_C3  X9_C4  X9_C5  X9_D1  X9_D2  X9_D3  X9_D4  X9_D5  \\\n",
       "0      0      0      0      0      0      0      0      0      0      0   \n",
       "1      0      0      0      0      0      0      0      0      0      0   \n",
       "\n",
       "   X9_E1  X9_E2  X9_E3  X9_E4  X9_E5  X9_F1  X9_F2  X9_F3  X9_F4  X9_F5  \\\n",
       "0      0      0      0      0      0      0      0      0      0      0   \n",
       "1      0      0      0      0      0      0      0      0      0      0   \n",
       "\n",
       "   X9_G1  X9_G2  X9_G3  X9_G4  X9_G5  X12_MORTGAGE  X12_OTHER  X12_OWN  \\\n",
       "0      0      0      0      0      0             0          0        0   \n",
       "1      0      0      0      0      0             0          0        0   \n",
       "\n",
       "   X12_RENT  X14_VERIFIED - income  X14_not verified  X17_credit_card  \\\n",
       "0         1                      1                 0                0   \n",
       "1         1                      0                 1                1   \n",
       "\n",
       "   X17_debt_consolidation  X17_others  X20_CA  X20_FL  X20_NY  X20_TX  \\\n",
       "0                       1           0       1       0       0       0   \n",
       "1                       0           0       0       0       1       0   \n",
       "\n",
       "   X20_others  X24_0  X24_1  X24_2  X24_> 2  X32_f  X32_w  issue_year_2012  \\\n",
       "0           0      1      0      0        0      1      0                0   \n",
       "1           0      1      0      0        0      1      0                0   \n",
       "\n",
       "   issue_year_2013  issue_year_2014  issue_year_older  \\\n",
       "0                0                0                 1   \n",
       "1                0                0                 1   \n",
       "\n",
       "   zero_delinquency_incidents_0  zero_delinquency_incidents_1  \\\n",
       "0                             0                             1   \n",
       "1                             0                             1   \n",
       "\n",
       "   no_derogatory_pr_0  no_derogatory_pr_1  \n",
       "0                   0                   1  \n",
       "1                   0                   1  "
      ]
     },
     "execution_count": 61,
     "metadata": {},
     "output_type": "execute_result"
    }
   ],
   "source": [
    "loan_train.head(2)"
   ]
  },
  {
   "cell_type": "markdown",
   "id": "26e7d4c5",
   "metadata": {},
   "source": [
    "### Modeling"
   ]
  },
  {
   "cell_type": "markdown",
   "id": "783b3eeb",
   "metadata": {},
   "source": [
    "#### Splitting dataframe into target variable and feature set"
   ]
  },
  {
   "cell_type": "code",
   "execution_count": 62,
   "id": "9352061d",
   "metadata": {},
   "outputs": [],
   "source": [
    "X = loan_train.iloc[:,1:]\n",
    "y = loan_train.iloc[:,0]"
   ]
  },
  {
   "cell_type": "code",
   "execution_count": 63,
   "id": "13a3652b",
   "metadata": {},
   "outputs": [],
   "source": [
    "X_train, X_test, y_train, y_test = train_test_split(X, y, train_size = 0.8,\n",
    "                                                    test_size=0.2, random_state=0)"
   ]
  },
  {
   "cell_type": "markdown",
   "id": "d082725a",
   "metadata": {},
   "source": [
    "#### Function to train a model and return train and test R2 and RMSE"
   ]
  },
  {
   "cell_type": "code",
   "execution_count": 67,
   "id": "42662067",
   "metadata": {},
   "outputs": [],
   "source": [
    "def train_predict(learner, X_train, y_train, X_test, y_test, random_state=0):\n",
    "    \n",
    "    results = {}\n",
    "    \n",
    "    # Fit the learner to the training data\n",
    "    learner = learner.fit(X_train, y_train)\n",
    "    \n",
    "    # Get the predictions on the test set(X_test) and the training set(X_train)\n",
    "    predictions_test = learner.predict(X_test)\n",
    "    predictions_train = learner.predict(X_train)\n",
    "    \n",
    "    results['Model'] = learner.__class__.__name__\n",
    "    \n",
    "    # Compute accuracy on the training set\n",
    "    results['Train R2'] = round(r2_score(y_train, predictions_train),4)\n",
    "        \n",
    "    # Compute accuracy on test set\n",
    "    results['Test R2'] = round(r2_score(y_test, predictions_test),4)\n",
    "    \n",
    "    # Compute F-score on the training set\n",
    "    results['Train MSE'] = round(mean_squared_error(y_train, predictions_train),4)\n",
    "        \n",
    "    #Compute F-score on the test set\n",
    "    results['Test MSE'] = round(mean_squared_error(y_test, predictions_test),4)\n",
    "\n",
    "\n",
    "    # Return the results\n",
    "    return results"
   ]
  },
  {
   "cell_type": "code",
   "execution_count": 68,
   "id": "e55cad58",
   "metadata": {},
   "outputs": [],
   "source": [
    "lr = LinearRegression()\n",
    "dtr = DecisionTreeRegressor()\n",
    "xgb = XGBRegressor()\n",
    "gbr = GradientBoostingRegressor()\n",
    "abr = AdaBoostRegressor()\n",
    "rf = RandomForestRegressor()"
   ]
  },
  {
   "cell_type": "code",
   "execution_count": 69,
   "id": "6afbeb29",
   "metadata": {},
   "outputs": [],
   "source": [
    "model_list = [lr, dtr, gbr, abr, rf, xgb]\n",
    "results = []\n",
    "\n",
    "for model in model_list:\n",
    "    results.append(train_predict(model, X_train, y_train, X_test, y_test, random_state=0))\n",
    "    \n",
    "model_df = pd.DataFrame(results, columns = ['Model','Train R2','Test R2','Train MSE',\n",
    "                                            'Test MSE']).sort_values('Test R2', ascending = False)"
   ]
  },
  {
   "cell_type": "code",
   "execution_count": 70,
   "id": "f013c0c3",
   "metadata": {},
   "outputs": [
    {
     "data": {
      "text/html": [
       "<div>\n",
       "<style scoped>\n",
       "    .dataframe tbody tr th:only-of-type {\n",
       "        vertical-align: middle;\n",
       "    }\n",
       "\n",
       "    .dataframe tbody tr th {\n",
       "        vertical-align: top;\n",
       "    }\n",
       "\n",
       "    .dataframe thead th {\n",
       "        text-align: right;\n",
       "    }\n",
       "</style>\n",
       "<table border=\"1\" class=\"dataframe\">\n",
       "  <thead>\n",
       "    <tr style=\"text-align: right;\">\n",
       "      <th></th>\n",
       "      <th>Model</th>\n",
       "      <th>Train R2</th>\n",
       "      <th>Test R2</th>\n",
       "      <th>Train MSE</th>\n",
       "      <th>Test MSE</th>\n",
       "    </tr>\n",
       "  </thead>\n",
       "  <tbody>\n",
       "    <tr>\n",
       "      <th>5</th>\n",
       "      <td>XGBRegressor</td>\n",
       "      <td>0.9908</td>\n",
       "      <td>0.9898</td>\n",
       "      <td>0.0092</td>\n",
       "      <td>0.0101</td>\n",
       "    </tr>\n",
       "    <tr>\n",
       "      <th>4</th>\n",
       "      <td>RandomForestRegressor</td>\n",
       "      <td>0.9985</td>\n",
       "      <td>0.9894</td>\n",
       "      <td>0.0015</td>\n",
       "      <td>0.0105</td>\n",
       "    </tr>\n",
       "    <tr>\n",
       "      <th>2</th>\n",
       "      <td>GradientBoostingRegressor</td>\n",
       "      <td>0.9844</td>\n",
       "      <td>0.9847</td>\n",
       "      <td>0.0156</td>\n",
       "      <td>0.0152</td>\n",
       "    </tr>\n",
       "    <tr>\n",
       "      <th>0</th>\n",
       "      <td>LinearRegression</td>\n",
       "      <td>0.9797</td>\n",
       "      <td>0.9800</td>\n",
       "      <td>0.0203</td>\n",
       "      <td>0.0199</td>\n",
       "    </tr>\n",
       "    <tr>\n",
       "      <th>1</th>\n",
       "      <td>DecisionTreeRegressor</td>\n",
       "      <td>1.0000</td>\n",
       "      <td>0.9778</td>\n",
       "      <td>0.0000</td>\n",
       "      <td>0.0221</td>\n",
       "    </tr>\n",
       "    <tr>\n",
       "      <th>3</th>\n",
       "      <td>AdaBoostRegressor</td>\n",
       "      <td>0.8109</td>\n",
       "      <td>0.8105</td>\n",
       "      <td>0.1893</td>\n",
       "      <td>0.1885</td>\n",
       "    </tr>\n",
       "  </tbody>\n",
       "</table>\n",
       "</div>"
      ],
      "text/plain": [
       "                       Model  Train R2  Test R2  Train MSE  Test MSE\n",
       "5               XGBRegressor    0.9908   0.9898     0.0092    0.0101\n",
       "4      RandomForestRegressor    0.9985   0.9894     0.0015    0.0105\n",
       "2  GradientBoostingRegressor    0.9844   0.9847     0.0156    0.0152\n",
       "0           LinearRegression    0.9797   0.9800     0.0203    0.0199\n",
       "1      DecisionTreeRegressor    1.0000   0.9778     0.0000    0.0221\n",
       "3          AdaBoostRegressor    0.8109   0.8105     0.1893    0.1885"
      ]
     },
     "execution_count": 70,
     "metadata": {},
     "output_type": "execute_result"
    }
   ],
   "source": [
    "model_df"
   ]
  },
  {
   "cell_type": "markdown",
   "id": "eb40aa05",
   "metadata": {},
   "source": [
    "#### Hyperparameter tuning"
   ]
  },
  {
   "cell_type": "code",
   "execution_count": 74,
   "id": "50aa9702",
   "metadata": {},
   "outputs": [],
   "source": [
    "param_grid = {\"n_estimators\" : [50, 100, 150],\n",
    "             \"learning_rate\" : [0.1,0.01],\n",
    "             'max_depth': [4,6,8]}"
   ]
  },
  {
   "cell_type": "code",
   "execution_count": 75,
   "id": "ca93f5ac",
   "metadata": {},
   "outputs": [
    {
     "name": "stdout",
     "output_type": "stream",
     "text": [
      "Fitting 3 folds for each of 10 candidates, totalling 30 fits\n"
     ]
    },
    {
     "data": {
      "text/plain": [
       "RandomizedSearchCV(cv=3,\n",
       "                   estimator=XGBRegressor(base_score=0.5, booster='gbtree',\n",
       "                                          callbacks=None, colsample_bylevel=1,\n",
       "                                          colsample_bynode=1,\n",
       "                                          colsample_bytree=1,\n",
       "                                          early_stopping_rounds=None,\n",
       "                                          enable_categorical=False,\n",
       "                                          eval_metric=None, feature_types=None,\n",
       "                                          gamma=0, gpu_id=-1,\n",
       "                                          grow_policy='depthwise',\n",
       "                                          importance_type=None,\n",
       "                                          interaction_constraints='',\n",
       "                                          learning_rate=0.3000...\n",
       "                                          max_cat_to_onehot=4, max_delta_step=0,\n",
       "                                          max_depth=6, max_leaves=0,\n",
       "                                          min_child_weight=1, missing=nan,\n",
       "                                          monotone_constraints='()',\n",
       "                                          n_estimators=100, n_jobs=0,\n",
       "                                          num_parallel_tree=1, predictor='auto',\n",
       "                                          random_state=0, ...),\n",
       "                   n_jobs=-2,\n",
       "                   param_distributions={'learning_rate': [0.1, 0.01],\n",
       "                                        'max_depth': [4, 6, 8],\n",
       "                                        'n_estimators': [50, 100, 150]},\n",
       "                   scoring='neg_mean_squared_error', verbose=3)"
      ]
     },
     "execution_count": 75,
     "metadata": {},
     "output_type": "execute_result"
    }
   ],
   "source": [
    "rgrid = RandomizedSearchCV(xgb, param_grid, cv = 3, scoring=\"neg_mean_squared_error\", n_jobs=-2, verbose=3)\n",
    "rgrid.fit(X,y)"
   ]
  },
  {
   "cell_type": "code",
   "execution_count": 76,
   "id": "4b12bc08",
   "metadata": {},
   "outputs": [
    {
     "name": "stdout",
     "output_type": "stream",
     "text": [
      "Best parameters: {'n_estimators': 100, 'max_depth': 8, 'learning_rate': 0.1}\n",
      "Best mean squared error: 0.03826489827383456\n"
     ]
    }
   ],
   "source": [
    "print(f\"Best parameters: {rgrid.best_params_}\")"
   ]
  },
  {
   "cell_type": "markdown",
   "id": "bf70e88e",
   "metadata": {},
   "source": [
    "#### Feature Importance"
   ]
  },
  {
   "cell_type": "code",
   "execution_count": 82,
   "id": "3300c1eb",
   "metadata": {},
   "outputs": [
    {
     "data": {
      "image/png": "[encoded data removed]",
      "text/plain": [
       "<Figure size 432x288 with 1 Axes>"
      ]
     },
     "metadata": {
      "needs_background": "light"
     },
     "output_type": "display_data"
    }
   ],
   "source": [
    "feature_importance = rgrid.best_estimator_.feature_importances_\n",
    "importances_rf = pd.Series(feature_importance,index = X.columns)\n",
    "sorted_importances_rf = importances_rf.sort_values()\n",
    "sorted_importances_rf[0:10].plot(kind='barh', color='blue')\n",
    "plt.title('Feature Importance')\n",
    "plt.show()"
   ]
  },
  {
   "cell_type": "markdown",
   "id": "8f53a558",
   "metadata": {},
   "source": [
    "#### Saving the pickle file"
   ]
  },
  {
   "cell_type": "code",
   "execution_count": 84,
   "id": "78eeda38",
   "metadata": {},
   "outputs": [],
   "source": [
    "with open('tuned_regressor.pkl','wb') as f:\n",
    "    pickle.dump(rgrid,f)"
   ]
  },
  {
   "cell_type": "markdown",
   "id": "41e77068",
   "metadata": {},
   "source": [
    "## Holdout Test set"
   ]
  },
  {
   "cell_type": "code",
   "execution_count": 85,
   "id": "e577b356",
   "metadata": {},
   "outputs": [],
   "source": [
    "loan_test = pd.read_csv('Loan_Prediction\\\\Holdout for Testing.csv')"
   ]
  },
  {
   "cell_type": "code",
   "execution_count": 86,
   "id": "4e0ba5ac",
   "metadata": {},
   "outputs": [],
   "source": [
    "loan_metadata = pd.read_csv('Loan_Prediction\\\\Metadata.csv')"
   ]
  },
  {
   "cell_type": "code",
   "execution_count": 87,
   "id": "dfca0371",
   "metadata": {},
   "outputs": [
    {
     "data": {
      "text/plain": [
       "X1     100.00000\n",
       "X2       0.00000\n",
       "X3       0.00000\n",
       "X4       0.00000\n",
       "X5       0.00000\n",
       "X6       0.00000\n",
       "X7       0.00000\n",
       "X8       0.00000\n",
       "X9       0.00000\n",
       "X10      5.49250\n",
       "X11      5.47750\n",
       "X12      0.00000\n",
       "X13      0.00000\n",
       "X14      0.00000\n",
       "X15      0.00000\n",
       "X16     99.98125\n",
       "X17      0.00000\n",
       "X18      0.00000\n",
       "X19      0.00000\n",
       "X20      0.00000\n",
       "X21      0.00000\n",
       "X22      0.00000\n",
       "X23      0.00000\n",
       "X24      0.00000\n",
       "X25     48.38000\n",
       "X26     82.70125\n",
       "X27      0.00000\n",
       "X28      0.00000\n",
       "X29      0.00000\n",
       "X30      0.03750\n",
       "X31      0.00000\n",
       "X32      0.00000\n",
       "dtype: float64"
      ]
     },
     "execution_count": 87,
     "metadata": {},
     "output_type": "execute_result"
    }
   ],
   "source": [
    "loan_test.isnull().sum() *100 / loan_test.shape[0]"
   ]
  },
  {
   "cell_type": "markdown",
   "id": "7e2714e1",
   "metadata": {},
   "source": [
    "#### Performing same operations as training set"
   ]
  },
  {
   "cell_type": "code",
   "execution_count": 88,
   "id": "087aa4aa",
   "metadata": {},
   "outputs": [],
   "source": [
    "loan_test['X30'] = loan_test['X30'].str.replace(r'[%,]', '', regex = True).str.strip().astype(float)\n",
    "loan_test['X4'] = loan_test['X4'].str.replace(r'[$,]', '', regex = True).str.strip().astype(float)\n",
    "loan_test['X5'] = loan_test['X5'].str.replace(r'[$,]', '', regex = True).str.strip().astype(float)\n",
    "loan_test['X6'] = loan_test['X6'].str.replace(r'[$,]', '', regex = True).str.strip().astype(float)\n",
    "\n",
    "loan_test['X11'] = loan_test['X11'].str.replace(r'[<+years?]', '', regex = True).str.strip()\n",
    "loan_test['X11'] = loan_test['X11'].fillna('0')\n",
    "loan_test['X11'] = loan_test['X11'].str.strip().astype(int)\n",
    "\n",
    "loan_test['X12'] = loan_test['X12'].str.replace('NONE','OTHER')\n",
    "loan_test['X12'] = loan_test['X12'].str.replace('ANY','OTHER')\n",
    "loan_test['X12'] = loan_test['X12'].fillna('OTHER')\n",
    "\n",
    "loan_test['X13'].fillna(int(loan_test['X13'].median()), inplace=True)\n",
    "\n",
    "loan_test['X14'] = loan_test['X14'].str.replace('VERIFIED - income source','VERIFIED - income')\n",
    "\n",
    "loan_test['issue_year'] = '20'+loan_test['X15'].str[-2:]\n",
    "loan_test['issue_year'] = loan_test['issue_year'].apply(lambda x: x if x in ['2012','2013','2014'] else 'older')\n",
    "\n",
    "loan_test['X17'] = loan_test['X17'].apply(lambda x: x if x in ['debt_consolidation','credit_card'] else 'others')\n",
    "\n",
    "loan_test['X20'] = loan_test['X20'].apply(lambda x: x if x in ['CA','NY','TX','FL'] else 'others')\n",
    "\n",
    "loan_test['zero_delinquency_incidents'] = loan_test['X22'].apply(lambda x: 1 if x == 0 else 0)\n",
    "\n",
    "loan_test['X24'] = loan_test['X24'].astype(int)\n",
    "loan_test['X24'] = loan_test['X24'].apply(lambda x: x if x in [0,1,2] else '> 2')\n",
    "\n",
    "loan_test['%ocl'] = loan_test['X27']/loan_test['X31']\n",
    "\n",
    "loan_test['no_derogatory_pr'] = loan_test['X28'].apply(lambda x: 1 if x == 0 else 0)\n",
    "\n",
    "loan_test['X30'].fillna(int(loan_test['X30'].median()), inplace=True)\n",
    "\n",
    "loan_test.drop(columns = ['X5','X6','X3','X10','X15','X16','X18','X19','X22','X23','X25','X26','X27','X31','X28'], inplace = True)"
   ]
  },
  {
   "cell_type": "markdown",
   "id": "ee1d859a",
   "metadata": {},
   "source": [
    "#### Converting categorical columns to dummy variables"
   ]
  },
  {
   "cell_type": "code",
   "execution_count": 89,
   "id": "f49f74e2",
   "metadata": {},
   "outputs": [],
   "source": [
    "loan_test = pd.get_dummies(loan_test, columns=['X7','X8','X9','X12','X14','X17','X20','X24','X32','issue_year','zero_delinquency_incidents','no_derogatory_pr'])"
   ]
  },
  {
   "cell_type": "code",
   "execution_count": 90,
   "id": "35b41e60",
   "metadata": {},
   "outputs": [],
   "source": [
    "X_test_holdout = loan_test.iloc[:,2:]"
   ]
  },
  {
   "cell_type": "code",
   "execution_count": 91,
   "id": "134680db",
   "metadata": {},
   "outputs": [],
   "source": [
    "#Found missing columns by \n",
    "a = X_test.columns.tolist()\n",
    "b = X_test_holdout.columns.tolist()\n",
    "c = [token for token in b if token not in a]"
   ]
  },
  {
   "cell_type": "code",
   "execution_count": 92,
   "id": "4c7d737a",
   "metadata": {},
   "outputs": [],
   "source": [
    "X_test_holdout['X12_OTHER'] = 0\n",
    "X_test_holdout['issue_year_2012'] = 0\n",
    "X_test_holdout['issue_year_2013'] = 0\n",
    "X_test_holdout['issue_year_2014'] = 0"
   ]
  },
  {
   "cell_type": "code",
   "execution_count": 93,
   "id": "e06b2cc9",
   "metadata": {},
   "outputs": [],
   "source": [
    "#To get in the same order\n",
    "X_test_holdout2 = X_test_holdout[X_test.columns.tolist()]"
   ]
  },
  {
   "cell_type": "markdown",
   "id": "0cb54d12",
   "metadata": {},
   "source": [
    "#### Loading the pickle file"
   ]
  },
  {
   "cell_type": "code",
   "execution_count": 94,
   "id": "bd1b1676",
   "metadata": {},
   "outputs": [],
   "source": [
    "with open('tuned_regressor.pkl', 'rb') as f:\n",
    "    tuned_model = pickle.load(f)"
   ]
  },
  {
   "cell_type": "code",
   "execution_count": 95,
   "id": "a08fe735",
   "metadata": {},
   "outputs": [],
   "source": [
    "predictions = tuned_model.predict(X_test_holdout2)"
   ]
  },
  {
   "cell_type": "code",
   "execution_count": 96,
   "id": "41dd721b",
   "metadata": {},
   "outputs": [],
   "source": [
    "predict = pd.DataFrame({'X2':loan_test['X2'],\n",
    "                        'X1':predictions})"
   ]
  },
  {
   "cell_type": "code",
   "execution_count": 97,
   "id": "84b2ca81",
   "metadata": {},
   "outputs": [],
   "source": [
    "predict.to_csv('Loan Prediction results from Devdutt Sharma.csv', index = False)"
   ]
  }
 ],
 "metadata": {
  "kernelspec": {
   "display_name": "Python 3 (ipykernel)",
   "language": "python",
   "name": "python3"
  },
  "language_info": {
   "codemirror_mode": {
    "name": "ipython",
    "version": 3
   },
   "file_extension": ".py",
   "mimetype": "text/x-python",
   "name": "python",
   "nbconvert_exporter": "python",
   "pygments_lexer": "ipython3",
   "version": "3.9.12"
  }
 },
 "nbformat": 4,
 "nbformat_minor": 5
}
